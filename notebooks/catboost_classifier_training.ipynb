{
 "cells": [
  {
   "cell_type": "code",
   "execution_count": 1,
   "outputs": [],
   "source": [
    "import catboost \n",
    "import numpy as np\n",
    "import pandas as pd\n",
    "from matplotlib import pyplot as plt\n",
    "from sklearn.metrics import accuracy_score\n",
    "from sklearn.preprocessing import StandardScaler\n",
    "from sklearn.model_selection import train_test_split\n",
    "from sklearn.metrics import roc_auc_score, roc_curve"
   ],
   "metadata": {
    "collapsed": false,
    "ExecuteTime": {
     "end_time": "2024-03-25T16:44:36.725696400Z",
     "start_time": "2024-03-25T16:44:32.643482900Z"
    }
   },
   "id": "9b4592701cac208d"
  },
  {
   "cell_type": "code",
   "execution_count": 3,
   "outputs": [],
   "source": [
    "data = pd.read_csv('.././data/winequalityN.csv', sep=',')\n",
    "data = data.dropna(inplace=False)"
   ],
   "metadata": {
    "collapsed": false,
    "ExecuteTime": {
     "end_time": "2024-03-25T16:44:50.025795700Z",
     "start_time": "2024-03-25T16:44:49.986793800Z"
    }
   },
   "id": "1a370cf1a2cf2448"
  },
  {
   "cell_type": "code",
   "execution_count": 4,
   "outputs": [
    {
     "name": "stdout",
     "output_type": "stream",
     "text": [
      "<class 'pandas.core.frame.DataFrame'>\n",
      "Int64Index: 6463 entries, 0 to 6496\n",
      "Data columns (total 13 columns):\n",
      " #   Column                Non-Null Count  Dtype  \n",
      "---  ------                --------------  -----  \n",
      " 0   type                  6463 non-null   object \n",
      " 1   fixed acidity         6463 non-null   float64\n",
      " 2   volatile acidity      6463 non-null   float64\n",
      " 3   citric acid           6463 non-null   float64\n",
      " 4   residual sugar        6463 non-null   float64\n",
      " 5   chlorides             6463 non-null   float64\n",
      " 6   free sulfur dioxide   6463 non-null   float64\n",
      " 7   total sulfur dioxide  6463 non-null   float64\n",
      " 8   density               6463 non-null   float64\n",
      " 9   pH                    6463 non-null   float64\n",
      " 10  sulphates             6463 non-null   float64\n",
      " 11  alcohol               6463 non-null   float64\n",
      " 12  quality               6463 non-null   int64  \n",
      "dtypes: float64(11), int64(1), object(1)\n",
      "memory usage: 706.9+ KB\n"
     ]
    }
   ],
   "source": [
    "# Проверим количество значений по колонкам\n",
    "data.info()  # в каждой по 5282, значит, пропусков нигде нет - расскоментировать, чтобы проверить"
   ],
   "metadata": {
    "collapsed": false,
    "ExecuteTime": {
     "end_time": "2024-03-25T16:44:51.396669800Z",
     "start_time": "2024-03-25T16:44:51.307488Z"
    }
   },
   "id": "3004739f0406cf61"
  },
  {
   "cell_type": "code",
   "execution_count": 5,
   "outputs": [],
   "source": [
    "# Целевой признак\n",
    "target_col = 'quality'\n",
    "\n",
    "# Числовые признаки\n",
    "num_cols = list(filter(lambda item: item != target_col, sorted(data.select_dtypes(include=['float64']).columns.to_list())))\n",
    "\n",
    "# Категориальные признаки\n",
    "cat_cols = list(filter(lambda item: item != target_col, sorted(data.select_dtypes(include=['object']).columns.to_list())))\n",
    "\n",
    "feature_cols = num_cols + cat_cols"
   ],
   "metadata": {
    "collapsed": false,
    "ExecuteTime": {
     "end_time": "2024-03-25T16:44:52.085017500Z",
     "start_time": "2024-03-25T16:44:52.058018100Z"
    }
   },
   "id": "78afa1611499ae3d"
  },
  {
   "cell_type": "code",
   "execution_count": 6,
   "outputs": [
    {
     "data": {
      "text/plain": "       type  fixed acidity  volatile acidity  citric acid  residual sugar  \\\n0     white            7.0             0.270         0.36            20.7   \n1     white            6.3             0.300         0.34             1.6   \n2     white            8.1             0.280         0.40             6.9   \n3     white            7.2             0.230         0.32             8.5   \n4     white            7.2             0.230         0.32             8.5   \n...     ...            ...               ...          ...             ...   \n6491    red            6.8             0.620         0.08             1.9   \n6492    red            6.2             0.600         0.08             2.0   \n6494    red            6.3             0.510         0.13             2.3   \n6495    red            5.9             0.645         0.12             2.0   \n6496    red            6.0             0.310         0.47             3.6   \n\n      chlorides  free sulfur dioxide  total sulfur dioxide  density    pH  \\\n0         0.045                 45.0                 170.0  1.00100  3.00   \n1         0.049                 14.0                 132.0  0.99400  3.30   \n2         0.050                 30.0                  97.0  0.99510  3.26   \n3         0.058                 47.0                 186.0  0.99560  3.19   \n4         0.058                 47.0                 186.0  0.99560  3.19   \n...         ...                  ...                   ...      ...   ...   \n6491      0.068                 28.0                  38.0  0.99651  3.42   \n6492      0.090                 32.0                  44.0  0.99490  3.45   \n6494      0.076                 29.0                  40.0  0.99574  3.42   \n6495      0.075                 32.0                  44.0  0.99547  3.57   \n6496      0.067                 18.0                  42.0  0.99549  3.39   \n\n      sulphates  alcohol  \n0          0.45      8.8  \n1          0.49      9.5  \n2          0.44     10.1  \n3          0.40      9.9  \n4          0.40      9.9  \n...         ...      ...  \n6491       0.82      9.5  \n6492       0.58     10.5  \n6494       0.75     11.0  \n6495       0.71     10.2  \n6496       0.66     11.0  \n\n[6463 rows x 12 columns]",
      "text/html": "<div>\n<style scoped>\n    .dataframe tbody tr th:only-of-type {\n        vertical-align: middle;\n    }\n\n    .dataframe tbody tr th {\n        vertical-align: top;\n    }\n\n    .dataframe thead th {\n        text-align: right;\n    }\n</style>\n<table border=\"1\" class=\"dataframe\">\n  <thead>\n    <tr style=\"text-align: right;\">\n      <th></th>\n      <th>type</th>\n      <th>fixed acidity</th>\n      <th>volatile acidity</th>\n      <th>citric acid</th>\n      <th>residual sugar</th>\n      <th>chlorides</th>\n      <th>free sulfur dioxide</th>\n      <th>total sulfur dioxide</th>\n      <th>density</th>\n      <th>pH</th>\n      <th>sulphates</th>\n      <th>alcohol</th>\n    </tr>\n  </thead>\n  <tbody>\n    <tr>\n      <th>0</th>\n      <td>white</td>\n      <td>7.0</td>\n      <td>0.270</td>\n      <td>0.36</td>\n      <td>20.7</td>\n      <td>0.045</td>\n      <td>45.0</td>\n      <td>170.0</td>\n      <td>1.00100</td>\n      <td>3.00</td>\n      <td>0.45</td>\n      <td>8.8</td>\n    </tr>\n    <tr>\n      <th>1</th>\n      <td>white</td>\n      <td>6.3</td>\n      <td>0.300</td>\n      <td>0.34</td>\n      <td>1.6</td>\n      <td>0.049</td>\n      <td>14.0</td>\n      <td>132.0</td>\n      <td>0.99400</td>\n      <td>3.30</td>\n      <td>0.49</td>\n      <td>9.5</td>\n    </tr>\n    <tr>\n      <th>2</th>\n      <td>white</td>\n      <td>8.1</td>\n      <td>0.280</td>\n      <td>0.40</td>\n      <td>6.9</td>\n      <td>0.050</td>\n      <td>30.0</td>\n      <td>97.0</td>\n      <td>0.99510</td>\n      <td>3.26</td>\n      <td>0.44</td>\n      <td>10.1</td>\n    </tr>\n    <tr>\n      <th>3</th>\n      <td>white</td>\n      <td>7.2</td>\n      <td>0.230</td>\n      <td>0.32</td>\n      <td>8.5</td>\n      <td>0.058</td>\n      <td>47.0</td>\n      <td>186.0</td>\n      <td>0.99560</td>\n      <td>3.19</td>\n      <td>0.40</td>\n      <td>9.9</td>\n    </tr>\n    <tr>\n      <th>4</th>\n      <td>white</td>\n      <td>7.2</td>\n      <td>0.230</td>\n      <td>0.32</td>\n      <td>8.5</td>\n      <td>0.058</td>\n      <td>47.0</td>\n      <td>186.0</td>\n      <td>0.99560</td>\n      <td>3.19</td>\n      <td>0.40</td>\n      <td>9.9</td>\n    </tr>\n    <tr>\n      <th>...</th>\n      <td>...</td>\n      <td>...</td>\n      <td>...</td>\n      <td>...</td>\n      <td>...</td>\n      <td>...</td>\n      <td>...</td>\n      <td>...</td>\n      <td>...</td>\n      <td>...</td>\n      <td>...</td>\n      <td>...</td>\n    </tr>\n    <tr>\n      <th>6491</th>\n      <td>red</td>\n      <td>6.8</td>\n      <td>0.620</td>\n      <td>0.08</td>\n      <td>1.9</td>\n      <td>0.068</td>\n      <td>28.0</td>\n      <td>38.0</td>\n      <td>0.99651</td>\n      <td>3.42</td>\n      <td>0.82</td>\n      <td>9.5</td>\n    </tr>\n    <tr>\n      <th>6492</th>\n      <td>red</td>\n      <td>6.2</td>\n      <td>0.600</td>\n      <td>0.08</td>\n      <td>2.0</td>\n      <td>0.090</td>\n      <td>32.0</td>\n      <td>44.0</td>\n      <td>0.99490</td>\n      <td>3.45</td>\n      <td>0.58</td>\n      <td>10.5</td>\n    </tr>\n    <tr>\n      <th>6494</th>\n      <td>red</td>\n      <td>6.3</td>\n      <td>0.510</td>\n      <td>0.13</td>\n      <td>2.3</td>\n      <td>0.076</td>\n      <td>29.0</td>\n      <td>40.0</td>\n      <td>0.99574</td>\n      <td>3.42</td>\n      <td>0.75</td>\n      <td>11.0</td>\n    </tr>\n    <tr>\n      <th>6495</th>\n      <td>red</td>\n      <td>5.9</td>\n      <td>0.645</td>\n      <td>0.12</td>\n      <td>2.0</td>\n      <td>0.075</td>\n      <td>32.0</td>\n      <td>44.0</td>\n      <td>0.99547</td>\n      <td>3.57</td>\n      <td>0.71</td>\n      <td>10.2</td>\n    </tr>\n    <tr>\n      <th>6496</th>\n      <td>red</td>\n      <td>6.0</td>\n      <td>0.310</td>\n      <td>0.47</td>\n      <td>3.6</td>\n      <td>0.067</td>\n      <td>18.0</td>\n      <td>42.0</td>\n      <td>0.99549</td>\n      <td>3.39</td>\n      <td>0.66</td>\n      <td>11.0</td>\n    </tr>\n  </tbody>\n</table>\n<p>6463 rows × 12 columns</p>\n</div>"
     },
     "execution_count": 6,
     "metadata": {},
     "output_type": "execute_result"
    }
   ],
   "source": [
    "X = data.loc[:, data.columns != target_col]\n",
    "X"
   ],
   "metadata": {
    "collapsed": false,
    "ExecuteTime": {
     "end_time": "2024-03-25T16:44:52.825560Z",
     "start_time": "2024-03-25T16:44:52.780562400Z"
    }
   },
   "id": "287d46407a2e2390"
  },
  {
   "cell_type": "code",
   "execution_count": 7,
   "outputs": [
    {
     "data": {
      "text/plain": "      quality\n0           6\n1           6\n2           6\n3           6\n4           6\n...       ...\n6491        6\n6492        5\n6494        6\n6495        5\n6496        6\n\n[6463 rows x 1 columns]",
      "text/html": "<div>\n<style scoped>\n    .dataframe tbody tr th:only-of-type {\n        vertical-align: middle;\n    }\n\n    .dataframe tbody tr th {\n        vertical-align: top;\n    }\n\n    .dataframe thead th {\n        text-align: right;\n    }\n</style>\n<table border=\"1\" class=\"dataframe\">\n  <thead>\n    <tr style=\"text-align: right;\">\n      <th></th>\n      <th>quality</th>\n    </tr>\n  </thead>\n  <tbody>\n    <tr>\n      <th>0</th>\n      <td>6</td>\n    </tr>\n    <tr>\n      <th>1</th>\n      <td>6</td>\n    </tr>\n    <tr>\n      <th>2</th>\n      <td>6</td>\n    </tr>\n    <tr>\n      <th>3</th>\n      <td>6</td>\n    </tr>\n    <tr>\n      <th>4</th>\n      <td>6</td>\n    </tr>\n    <tr>\n      <th>...</th>\n      <td>...</td>\n    </tr>\n    <tr>\n      <th>6491</th>\n      <td>6</td>\n    </tr>\n    <tr>\n      <th>6492</th>\n      <td>5</td>\n    </tr>\n    <tr>\n      <th>6494</th>\n      <td>6</td>\n    </tr>\n    <tr>\n      <th>6495</th>\n      <td>5</td>\n    </tr>\n    <tr>\n      <th>6496</th>\n      <td>6</td>\n    </tr>\n  </tbody>\n</table>\n<p>6463 rows × 1 columns</p>\n</div>"
     },
     "execution_count": 7,
     "metadata": {},
     "output_type": "execute_result"
    }
   ],
   "source": [
    "y = data.loc[:, data.columns == target_col]\n",
    "y"
   ],
   "metadata": {
    "collapsed": false,
    "ExecuteTime": {
     "end_time": "2024-03-25T16:44:55.205701600Z",
     "start_time": "2024-03-25T16:44:55.102800500Z"
    }
   },
   "id": "396954f8af6f0c54"
  },
  {
   "cell_type": "code",
   "execution_count": 13,
   "outputs": [],
   "source": [
    "# CatBoost умеет работать с категориальными признаками сам\n",
    "X_train_origin, X_test_origin, y_train, y_test = train_test_split(X, y, \n",
    "                                                       train_size=0.99, \n",
    "                                                       random_state=42)"
   ],
   "metadata": {
    "collapsed": false,
    "ExecuteTime": {
     "end_time": "2024-03-25T16:52:01.947750900Z",
     "start_time": "2024-03-25T16:52:01.925752700Z"
    }
   },
   "id": "505c5850c056535c"
  },
  {
   "cell_type": "code",
   "execution_count": 11,
   "outputs": [
    {
     "data": {
      "text/plain": "pandas.core.frame.DataFrame"
     },
     "execution_count": 11,
     "metadata": {},
     "output_type": "execute_result"
    }
   ],
   "source": [
    "type(y_train)"
   ],
   "metadata": {
    "collapsed": false,
    "ExecuteTime": {
     "end_time": "2024-03-25T16:45:12.105717800Z",
     "start_time": "2024-03-25T16:45:12.041709700Z"
    }
   },
   "id": "a970c91a9fc2b1a2"
  },
  {
   "cell_type": "code",
   "execution_count": 254,
   "outputs": [
    {
     "name": "stdout",
     "output_type": "stream",
     "text": [
      "Learning rate set to 0.331695\n",
      "0:\tlearn: 1.5248635\ttotal: 17.1ms\tremaining: 3.39s\n",
      "1:\tlearn: 1.3395866\ttotal: 31.7ms\tremaining: 3.14s\n",
      "2:\tlearn: 1.2395199\ttotal: 48.5ms\tremaining: 3.18s\n",
      "3:\tlearn: 1.1777848\ttotal: 65.4ms\tremaining: 3.21s\n",
      "4:\tlearn: 1.1348594\ttotal: 83.2ms\tremaining: 3.24s\n",
      "5:\tlearn: 1.0945977\ttotal: 98.6ms\tremaining: 3.19s\n",
      "6:\tlearn: 1.0679357\ttotal: 114ms\tremaining: 3.13s\n",
      "7:\tlearn: 1.0443271\ttotal: 128ms\tremaining: 3.07s\n",
      "8:\tlearn: 1.0280243\ttotal: 144ms\tremaining: 3.06s\n",
      "9:\tlearn: 1.0134532\ttotal: 164ms\tremaining: 3.11s\n",
      "10:\tlearn: 1.0021272\ttotal: 181ms\tremaining: 3.11s\n",
      "11:\tlearn: 0.9901078\ttotal: 210ms\tremaining: 3.29s\n",
      "12:\tlearn: 0.9778035\ttotal: 235ms\tremaining: 3.37s\n",
      "13:\tlearn: 0.9690484\ttotal: 270ms\tremaining: 3.59s\n",
      "14:\tlearn: 0.9560613\ttotal: 295ms\tremaining: 3.64s\n",
      "15:\tlearn: 0.9512865\ttotal: 326ms\tremaining: 3.75s\n",
      "16:\tlearn: 0.9478803\ttotal: 347ms\tremaining: 3.73s\n",
      "17:\tlearn: 0.9444769\ttotal: 374ms\tremaining: 3.78s\n",
      "18:\tlearn: 0.9350106\ttotal: 401ms\tremaining: 3.81s\n",
      "19:\tlearn: 0.9298866\ttotal: 418ms\tremaining: 3.77s\n",
      "20:\tlearn: 0.9233491\ttotal: 442ms\tremaining: 3.77s\n",
      "21:\tlearn: 0.9127536\ttotal: 470ms\tremaining: 3.8s\n",
      "22:\tlearn: 0.9099079\ttotal: 492ms\tremaining: 3.79s\n",
      "23:\tlearn: 0.9035955\ttotal: 518ms\tremaining: 3.8s\n",
      "24:\tlearn: 0.8960771\ttotal: 548ms\tremaining: 3.83s\n",
      "25:\tlearn: 0.8897403\ttotal: 580ms\tremaining: 3.88s\n",
      "26:\tlearn: 0.8842335\ttotal: 611ms\tremaining: 3.92s\n",
      "27:\tlearn: 0.8812757\ttotal: 635ms\tremaining: 3.9s\n",
      "28:\tlearn: 0.8756801\ttotal: 658ms\tremaining: 3.88s\n",
      "29:\tlearn: 0.8684150\ttotal: 677ms\tremaining: 3.83s\n",
      "30:\tlearn: 0.8636045\ttotal: 696ms\tremaining: 3.79s\n",
      "31:\tlearn: 0.8590610\ttotal: 715ms\tremaining: 3.75s\n",
      "32:\tlearn: 0.8548970\ttotal: 733ms\tremaining: 3.71s\n",
      "33:\tlearn: 0.8511087\ttotal: 749ms\tremaining: 3.66s\n",
      "34:\tlearn: 0.8444653\ttotal: 766ms\tremaining: 3.61s\n",
      "35:\tlearn: 0.8385050\ttotal: 781ms\tremaining: 3.56s\n",
      "36:\tlearn: 0.8335764\ttotal: 795ms\tremaining: 3.5s\n",
      "37:\tlearn: 0.8295729\ttotal: 810ms\tremaining: 3.45s\n",
      "38:\tlearn: 0.8269664\ttotal: 824ms\tremaining: 3.4s\n",
      "39:\tlearn: 0.8242458\ttotal: 840ms\tremaining: 3.36s\n",
      "40:\tlearn: 0.8222430\ttotal: 854ms\tremaining: 3.31s\n",
      "41:\tlearn: 0.8175419\ttotal: 868ms\tremaining: 3.27s\n",
      "42:\tlearn: 0.8143905\ttotal: 886ms\tremaining: 3.23s\n",
      "43:\tlearn: 0.8099373\ttotal: 904ms\tremaining: 3.21s\n",
      "44:\tlearn: 0.8052199\ttotal: 921ms\tremaining: 3.17s\n",
      "45:\tlearn: 0.8017563\ttotal: 940ms\tremaining: 3.15s\n",
      "46:\tlearn: 0.7998306\ttotal: 955ms\tremaining: 3.11s\n",
      "47:\tlearn: 0.7953848\ttotal: 976ms\tremaining: 3.09s\n",
      "48:\tlearn: 0.7922000\ttotal: 995ms\tremaining: 3.07s\n",
      "49:\tlearn: 0.7880299\ttotal: 1.01s\tremaining: 3.03s\n",
      "50:\tlearn: 0.7851966\ttotal: 1.03s\tremaining: 3s\n",
      "51:\tlearn: 0.7793829\ttotal: 1.04s\tremaining: 2.97s\n",
      "52:\tlearn: 0.7780118\ttotal: 1.06s\tremaining: 2.94s\n",
      "53:\tlearn: 0.7716344\ttotal: 1.08s\tremaining: 2.91s\n",
      "54:\tlearn: 0.7645044\ttotal: 1.09s\tremaining: 2.89s\n",
      "55:\tlearn: 0.7584239\ttotal: 1.11s\tremaining: 2.86s\n",
      "56:\tlearn: 0.7542081\ttotal: 1.13s\tremaining: 2.83s\n",
      "57:\tlearn: 0.7508887\ttotal: 1.15s\tremaining: 2.8s\n",
      "58:\tlearn: 0.7480411\ttotal: 1.17s\tremaining: 2.79s\n",
      "59:\tlearn: 0.7431267\ttotal: 1.19s\tremaining: 2.77s\n",
      "60:\tlearn: 0.7382408\ttotal: 1.2s\tremaining: 2.74s\n",
      "61:\tlearn: 0.7336354\ttotal: 1.22s\tremaining: 2.72s\n",
      "62:\tlearn: 0.7290433\ttotal: 1.24s\tremaining: 2.7s\n",
      "63:\tlearn: 0.7249950\ttotal: 1.26s\tremaining: 2.67s\n",
      "64:\tlearn: 0.7215802\ttotal: 1.28s\tremaining: 2.65s\n",
      "65:\tlearn: 0.7185299\ttotal: 1.29s\tremaining: 2.62s\n",
      "66:\tlearn: 0.7131490\ttotal: 1.31s\tremaining: 2.6s\n",
      "67:\tlearn: 0.7068118\ttotal: 1.33s\tremaining: 2.58s\n",
      "68:\tlearn: 0.7023274\ttotal: 1.35s\tremaining: 2.56s\n",
      "69:\tlearn: 0.6989476\ttotal: 1.36s\tremaining: 2.53s\n",
      "70:\tlearn: 0.6960454\ttotal: 1.38s\tremaining: 2.5s\n",
      "71:\tlearn: 0.6936477\ttotal: 1.39s\tremaining: 2.48s\n",
      "72:\tlearn: 0.6884811\ttotal: 1.41s\tremaining: 2.45s\n",
      "73:\tlearn: 0.6853451\ttotal: 1.43s\tremaining: 2.43s\n",
      "74:\tlearn: 0.6836294\ttotal: 1.44s\tremaining: 2.4s\n",
      "75:\tlearn: 0.6806739\ttotal: 1.46s\tremaining: 2.38s\n",
      "76:\tlearn: 0.6786947\ttotal: 1.47s\tremaining: 2.35s\n",
      "77:\tlearn: 0.6748807\ttotal: 1.49s\tremaining: 2.33s\n",
      "78:\tlearn: 0.6734113\ttotal: 1.51s\tremaining: 2.31s\n",
      "79:\tlearn: 0.6712214\ttotal: 1.52s\tremaining: 2.29s\n",
      "80:\tlearn: 0.6667789\ttotal: 1.54s\tremaining: 2.26s\n",
      "81:\tlearn: 0.6651730\ttotal: 1.56s\tremaining: 2.24s\n",
      "82:\tlearn: 0.6631049\ttotal: 1.57s\tremaining: 2.22s\n",
      "83:\tlearn: 0.6557079\ttotal: 1.59s\tremaining: 2.2s\n",
      "84:\tlearn: 0.6524117\ttotal: 1.61s\tremaining: 2.18s\n",
      "85:\tlearn: 0.6497258\ttotal: 1.63s\tremaining: 2.16s\n",
      "86:\tlearn: 0.6479906\ttotal: 1.65s\tremaining: 2.14s\n",
      "87:\tlearn: 0.6441659\ttotal: 1.67s\tremaining: 2.12s\n",
      "88:\tlearn: 0.6397876\ttotal: 1.68s\tremaining: 2.1s\n",
      "89:\tlearn: 0.6375676\ttotal: 1.7s\tremaining: 2.08s\n",
      "90:\tlearn: 0.6348712\ttotal: 1.72s\tremaining: 2.06s\n",
      "91:\tlearn: 0.6331088\ttotal: 1.74s\tremaining: 2.04s\n",
      "92:\tlearn: 0.6314316\ttotal: 1.76s\tremaining: 2.03s\n",
      "93:\tlearn: 0.6286913\ttotal: 1.78s\tremaining: 2.01s\n",
      "94:\tlearn: 0.6252374\ttotal: 1.81s\tremaining: 2s\n",
      "95:\tlearn: 0.6206315\ttotal: 1.82s\tremaining: 1.98s\n",
      "96:\tlearn: 0.6167005\ttotal: 1.84s\tremaining: 1.96s\n",
      "97:\tlearn: 0.6150453\ttotal: 1.86s\tremaining: 1.94s\n",
      "98:\tlearn: 0.6130782\ttotal: 1.88s\tremaining: 1.92s\n",
      "99:\tlearn: 0.6099048\ttotal: 1.9s\tremaining: 1.9s\n",
      "100:\tlearn: 0.6081052\ttotal: 1.92s\tremaining: 1.89s\n",
      "101:\tlearn: 0.6047651\ttotal: 1.95s\tremaining: 1.87s\n",
      "102:\tlearn: 0.6024175\ttotal: 1.97s\tremaining: 1.85s\n",
      "103:\tlearn: 0.5997696\ttotal: 1.99s\tremaining: 1.83s\n",
      "104:\tlearn: 0.5970842\ttotal: 2s\tremaining: 1.81s\n",
      "105:\tlearn: 0.5927079\ttotal: 2.02s\tremaining: 1.79s\n",
      "106:\tlearn: 0.5912300\ttotal: 2.03s\tremaining: 1.77s\n",
      "107:\tlearn: 0.5900050\ttotal: 2.05s\tremaining: 1.74s\n",
      "108:\tlearn: 0.5875566\ttotal: 2.06s\tremaining: 1.72s\n",
      "109:\tlearn: 0.5850590\ttotal: 2.08s\tremaining: 1.7s\n",
      "110:\tlearn: 0.5832520\ttotal: 2.09s\tremaining: 1.68s\n",
      "111:\tlearn: 0.5796503\ttotal: 2.1s\tremaining: 1.65s\n",
      "112:\tlearn: 0.5778860\ttotal: 2.12s\tremaining: 1.63s\n",
      "113:\tlearn: 0.5755237\ttotal: 2.13s\tremaining: 1.6s\n",
      "114:\tlearn: 0.5726568\ttotal: 2.14s\tremaining: 1.58s\n",
      "115:\tlearn: 0.5710611\ttotal: 2.16s\tremaining: 1.56s\n",
      "116:\tlearn: 0.5685792\ttotal: 2.17s\tremaining: 1.54s\n",
      "117:\tlearn: 0.5645968\ttotal: 2.19s\tremaining: 1.52s\n",
      "118:\tlearn: 0.5626295\ttotal: 2.21s\tremaining: 1.5s\n",
      "119:\tlearn: 0.5600404\ttotal: 2.22s\tremaining: 1.48s\n",
      "120:\tlearn: 0.5567346\ttotal: 2.24s\tremaining: 1.46s\n",
      "121:\tlearn: 0.5543938\ttotal: 2.25s\tremaining: 1.44s\n",
      "122:\tlearn: 0.5517643\ttotal: 2.27s\tremaining: 1.42s\n",
      "123:\tlearn: 0.5507179\ttotal: 2.28s\tremaining: 1.4s\n",
      "124:\tlearn: 0.5488416\ttotal: 2.3s\tremaining: 1.38s\n",
      "125:\tlearn: 0.5481234\ttotal: 2.31s\tremaining: 1.36s\n",
      "126:\tlearn: 0.5448822\ttotal: 2.33s\tremaining: 1.34s\n",
      "127:\tlearn: 0.5424732\ttotal: 2.35s\tremaining: 1.32s\n",
      "128:\tlearn: 0.5393658\ttotal: 2.36s\tremaining: 1.3s\n",
      "129:\tlearn: 0.5346605\ttotal: 2.38s\tremaining: 1.28s\n",
      "130:\tlearn: 0.5319376\ttotal: 2.39s\tremaining: 1.26s\n",
      "131:\tlearn: 0.5295493\ttotal: 2.41s\tremaining: 1.24s\n",
      "132:\tlearn: 0.5272728\ttotal: 2.42s\tremaining: 1.22s\n",
      "133:\tlearn: 0.5256357\ttotal: 2.43s\tremaining: 1.2s\n",
      "134:\tlearn: 0.5247132\ttotal: 2.45s\tremaining: 1.18s\n",
      "135:\tlearn: 0.5222699\ttotal: 2.46s\tremaining: 1.16s\n",
      "136:\tlearn: 0.5200067\ttotal: 2.47s\tremaining: 1.14s\n",
      "137:\tlearn: 0.5178187\ttotal: 2.49s\tremaining: 1.12s\n",
      "138:\tlearn: 0.5171086\ttotal: 2.5s\tremaining: 1.1s\n",
      "139:\tlearn: 0.5153401\ttotal: 2.51s\tremaining: 1.08s\n",
      "140:\tlearn: 0.5129070\ttotal: 2.52s\tremaining: 1.05s\n",
      "141:\tlearn: 0.5104809\ttotal: 2.53s\tremaining: 1.03s\n",
      "142:\tlearn: 0.5091865\ttotal: 2.54s\tremaining: 1.01s\n",
      "143:\tlearn: 0.5074762\ttotal: 2.56s\tremaining: 994ms\n",
      "144:\tlearn: 0.5052218\ttotal: 2.57s\tremaining: 974ms\n",
      "145:\tlearn: 0.5033742\ttotal: 2.58s\tremaining: 955ms\n",
      "146:\tlearn: 0.5020626\ttotal: 2.59s\tremaining: 935ms\n",
      "147:\tlearn: 0.5012512\ttotal: 2.61s\tremaining: 916ms\n",
      "148:\tlearn: 0.5000802\ttotal: 2.62s\tremaining: 897ms\n",
      "149:\tlearn: 0.4986047\ttotal: 2.63s\tremaining: 877ms\n",
      "150:\tlearn: 0.4962956\ttotal: 2.65s\tremaining: 859ms\n",
      "151:\tlearn: 0.4936293\ttotal: 2.66s\tremaining: 840ms\n",
      "152:\tlearn: 0.4907302\ttotal: 2.67s\tremaining: 822ms\n",
      "153:\tlearn: 0.4891038\ttotal: 2.69s\tremaining: 804ms\n",
      "154:\tlearn: 0.4869764\ttotal: 2.7s\tremaining: 785ms\n",
      "155:\tlearn: 0.4849002\ttotal: 2.72s\tremaining: 767ms\n",
      "156:\tlearn: 0.4813085\ttotal: 2.73s\tremaining: 748ms\n",
      "157:\tlearn: 0.4806116\ttotal: 2.75s\tremaining: 730ms\n",
      "158:\tlearn: 0.4795556\ttotal: 2.76s\tremaining: 711ms\n",
      "159:\tlearn: 0.4788231\ttotal: 2.77s\tremaining: 692ms\n",
      "160:\tlearn: 0.4770281\ttotal: 2.78s\tremaining: 674ms\n",
      "161:\tlearn: 0.4763585\ttotal: 2.79s\tremaining: 655ms\n",
      "162:\tlearn: 0.4739606\ttotal: 2.81s\tremaining: 637ms\n",
      "163:\tlearn: 0.4720517\ttotal: 2.82s\tremaining: 619ms\n",
      "164:\tlearn: 0.4705739\ttotal: 2.83s\tremaining: 600ms\n",
      "165:\tlearn: 0.4677517\ttotal: 2.84s\tremaining: 582ms\n",
      "166:\tlearn: 0.4661888\ttotal: 2.85s\tremaining: 564ms\n",
      "167:\tlearn: 0.4646520\ttotal: 2.87s\tremaining: 546ms\n",
      "168:\tlearn: 0.4625970\ttotal: 2.88s\tremaining: 528ms\n",
      "169:\tlearn: 0.4620116\ttotal: 2.89s\tremaining: 510ms\n",
      "170:\tlearn: 0.4602460\ttotal: 2.9s\tremaining: 493ms\n",
      "171:\tlearn: 0.4585536\ttotal: 2.92s\tremaining: 475ms\n",
      "172:\tlearn: 0.4556956\ttotal: 2.93s\tremaining: 458ms\n",
      "173:\tlearn: 0.4548070\ttotal: 2.94s\tremaining: 440ms\n",
      "174:\tlearn: 0.4528055\ttotal: 2.96s\tremaining: 422ms\n",
      "175:\tlearn: 0.4500883\ttotal: 2.97s\tremaining: 405ms\n",
      "176:\tlearn: 0.4476036\ttotal: 2.98s\tremaining: 387ms\n",
      "177:\tlearn: 0.4458990\ttotal: 2.99s\tremaining: 370ms\n",
      "178:\tlearn: 0.4429742\ttotal: 3s\tremaining: 352ms\n",
      "179:\tlearn: 0.4408013\ttotal: 3.01s\tremaining: 335ms\n",
      "180:\tlearn: 0.4391430\ttotal: 3.03s\tremaining: 318ms\n",
      "181:\tlearn: 0.4380187\ttotal: 3.04s\tremaining: 301ms\n",
      "182:\tlearn: 0.4357045\ttotal: 3.05s\tremaining: 284ms\n",
      "183:\tlearn: 0.4345865\ttotal: 3.07s\tremaining: 267ms\n",
      "184:\tlearn: 0.4329684\ttotal: 3.08s\tremaining: 250ms\n",
      "185:\tlearn: 0.4316444\ttotal: 3.09s\tremaining: 233ms\n",
      "186:\tlearn: 0.4302745\ttotal: 3.1s\tremaining: 216ms\n",
      "187:\tlearn: 0.4283413\ttotal: 3.12s\tremaining: 199ms\n",
      "188:\tlearn: 0.4272219\ttotal: 3.13s\tremaining: 182ms\n",
      "189:\tlearn: 0.4270216\ttotal: 3.14s\tremaining: 165ms\n",
      "190:\tlearn: 0.4244160\ttotal: 3.15s\tremaining: 149ms\n",
      "191:\tlearn: 0.4222644\ttotal: 3.16s\tremaining: 132ms\n",
      "192:\tlearn: 0.4213541\ttotal: 3.18s\tremaining: 115ms\n",
      "193:\tlearn: 0.4208025\ttotal: 3.19s\tremaining: 98.7ms\n",
      "194:\tlearn: 0.4190017\ttotal: 3.2s\tremaining: 82.1ms\n",
      "195:\tlearn: 0.4173092\ttotal: 3.21s\tremaining: 65.6ms\n",
      "196:\tlearn: 0.4162270\ttotal: 3.23s\tremaining: 49.1ms\n",
      "197:\tlearn: 0.4144674\ttotal: 3.24s\tremaining: 32.7ms\n",
      "198:\tlearn: 0.4122949\ttotal: 3.25s\tremaining: 16.4ms\n",
      "199:\tlearn: 0.4113866\ttotal: 3.27s\tremaining: 0us\n"
     ]
    },
    {
     "data": {
      "text/plain": "<catboost.core.CatBoostClassifier at 0x1318f362fa0>"
     },
     "execution_count": 254,
     "metadata": {},
     "output_type": "execute_result"
    }
   ],
   "source": [
    "model = catboost.CatBoostClassifier(n_estimators=200,\n",
    "                                            cat_features=cat_cols,\n",
    "                                            custom_loss=['Accuracy'])\n",
    "model.fit(X_train_origin, y_train)"
   ],
   "metadata": {
    "collapsed": false,
    "ExecuteTime": {
     "end_time": "2024-03-25T16:07:05.391226Z",
     "start_time": "2024-03-25T16:07:01.963226800Z"
    }
   },
   "id": "2bdd4ce3ed6fa464"
  },
  {
   "cell_type": "code",
   "execution_count": 261,
   "outputs": [],
   "source": [
    "model.save_model(\"catboost_classifier_weights.cbm\")"
   ],
   "metadata": {
    "collapsed": false,
    "ExecuteTime": {
     "end_time": "2024-03-25T16:07:55.351142300Z",
     "start_time": "2024-03-25T16:07:55.336148600Z"
    }
   },
   "id": "f1d871753755ea35"
  },
  {
   "cell_type": "code",
   "execution_count": 258,
   "outputs": [],
   "source": [
    "y_train_predicted = model.predict(X_train_origin)\n",
    "y_test_predicted = model.predict(X_test_origin)"
   ],
   "metadata": {
    "collapsed": false,
    "ExecuteTime": {
     "end_time": "2024-03-25T16:07:29.320883300Z",
     "start_time": "2024-03-25T16:07:29.283853Z"
    }
   },
   "id": "f3be023fdce2b6ef"
  },
  {
   "cell_type": "code",
   "execution_count": 259,
   "outputs": [],
   "source": [
    "train_auc = accuracy_score(y_train, y_train_predicted)\n",
    "test_auc = accuracy_score(y_test, y_test_predicted)"
   ],
   "metadata": {
    "collapsed": false,
    "ExecuteTime": {
     "end_time": "2024-03-25T16:07:29.599914Z",
     "start_time": "2024-03-25T16:07:29.565913100Z"
    }
   },
   "id": "4f054e9149f6e009"
  },
  {
   "cell_type": "code",
   "execution_count": 260,
   "outputs": [],
   "source": [
    "# train_auc, test_auc"
   ],
   "metadata": {
    "collapsed": false,
    "ExecuteTime": {
     "end_time": "2024-03-25T16:07:29.904241Z",
     "start_time": "2024-03-25T16:07:29.857108600Z"
    }
   },
   "id": "339a1ed7afd7d240"
  }
 ],
 "metadata": {
  "kernelspec": {
   "display_name": "Python 3",
   "language": "python",
   "name": "python3"
  },
  "language_info": {
   "codemirror_mode": {
    "name": "ipython",
    "version": 2
   },
   "file_extension": ".py",
   "mimetype": "text/x-python",
   "name": "python",
   "nbconvert_exporter": "python",
   "pygments_lexer": "ipython2",
   "version": "2.7.6"
  }
 },
 "nbformat": 4,
 "nbformat_minor": 5
}
